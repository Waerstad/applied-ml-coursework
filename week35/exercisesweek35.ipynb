{
 "cells": [
  {
   "cell_type": "markdown",
   "id": "b4005770",
   "metadata": {},
   "source": [
    "# Exercises week 35\n",
    "\n",
    "## Deriving and Implementing Ordinary Least Squares"
   ]
  },
  {
   "cell_type": "markdown",
   "id": "2ca1b589",
   "metadata": {},
   "source": [
    "This week you will be deriving the analytical expressions for linear regression, building up the model from scratch. This will include taking several derivatives of products of vectors and matrices. Such derivatives are central to the optimization of many machine learning models. Although we will often use automatic differentiation in actual calculations, to be able to have analytical expressions is extremely helpful in case we have simpler derivatives as well as when we analyze various properties (like second derivatives) of the chosen cost functions.\n",
    "\n",
    "Vectors are always written as boldfaced lower case letters and matrices as upper case boldfaced letters. You will find useful the notes from week 35 on derivatives of vectors and matrices. See also the textbook of Faisal at al, chapter 5 and in particular sections 5.3-5.5 at <https://github.com/CompPhysics/MachineLearning/blob/master/doc/Textbooks/MathMLbook.pdf>"
   ]
  },
  {
   "cell_type": "markdown",
   "id": "41e92bf9",
   "metadata": {},
   "source": [
    "### Learning goals\n",
    "\n",
    "After completing these exercises, you will know how to\n",
    "- Take the derivatives of simple products between vectors and matrices\n",
    "- Implement OLS using the analytical expressions\n",
    "- Create a feature matrix from a set of data\n",
    "- Create a feature matrix for a polynomial model\n",
    "- Evaluate the MSE score of various model on training and test data, and comparing their performance\n",
    "\n",
    "### Deliverables\n",
    "\n",
    "Complete the following exercises while working in a jupyter notebook. Then, in canvas, include\n",
    "- The jupyter notebook with the exercises completed\n",
    "- An exported PDF of the notebook (https://code.visualstudio.com/docs/datascience/jupyter-notebooks#_export-your-jupyter-notebook)"
   ]
  },
  {
   "cell_type": "markdown",
   "id": "f7a9209d",
   "metadata": {},
   "source": [
    "## How to take derivatives of Matrix-Vector expressions"
   ]
  },
  {
   "cell_type": "markdown",
   "id": "45f3712e",
   "metadata": {},
   "source": [
    "In these exercises it is always useful to write out with summation indices the various quantities. Take also a look at the weekly slides from week 35 and the various examples included there.\n",
    "\n",
    "As an example, consider the function\n",
    "\n",
    "$$\n",
    "f(\\boldsymbol{x}) =\\boldsymbol{A}\\boldsymbol{x},\n",
    "$$\n",
    "\n",
    "which reads for a specific component $f_i$ (we define the matrix $\\boldsymbol{A}$ to have dimension $n\\times n$ and the vector $\\boldsymbol{x}$ to have length $n$)\n",
    "\n",
    "$$\n",
    "f_i =\\sum_{j=0}^{n-1}a_{ij}x_j,\n",
    "$$\n",
    "\n",
    "which leads to\n",
    "\n",
    "$$\n",
    "\\frac{\\partial f_i}{\\partial x_j}= a_{ij},\n",
    "$$\n",
    "\n",
    "and written out in terms of the vector $\\boldsymbol{x}$ we have\n",
    "\n",
    "$$\n",
    "\\frac{\\partial f(\\boldsymbol{x})}{\\partial \\boldsymbol{x}}= \\boldsymbol{A}.\n",
    "$$"
   ]
  },
  {
   "cell_type": "markdown",
   "id": "5fa8a4e6",
   "metadata": {},
   "source": [
    "## Exercise 1 - Finding the derivative of Matrix-Vector expressions"
   ]
  },
  {
   "cell_type": "markdown",
   "id": "df7a2270",
   "metadata": {},
   "source": [
    "**a)** Consider the expression\n",
    "\n",
    "$$\n",
    "\\frac{\\partial (\\boldsymbol{a}^T\\boldsymbol{x})}{\\partial \\boldsymbol{x}},\n",
    "$$\n",
    "\n",
    "Where $\\boldsymbol{a}$ and $\\boldsymbol{x}$ are column-vectors with length $n$.\n",
    "\n",
    "What is the *shape* of the expression we are taking the derivative of?\n",
    "\n",
    "What is the *shape* of the thing we are taking the derivative with respect to?\n",
    "\n",
    "What is the *shape* of the result of the expression?"
   ]
  },
  {
   "cell_type": "markdown",
   "id": "c0396734",
   "metadata": {},
   "source": [
    "**b)** Show that\n",
    "\n",
    "$$\n",
    "\\frac{\\partial (\\boldsymbol{a}^T\\boldsymbol{x})}{\\partial \\boldsymbol{x}} = \\boldsymbol{a}^T,\n",
    "$$"
   ]
  },
  {
   "cell_type": "markdown",
   "id": "dc39d541",
   "metadata": {},
   "source": [
    "**c)** Show that\n",
    "\n",
    "$$\n",
    "\\frac{\\partial (\\boldsymbol{a}^T\\boldsymbol{A}\\boldsymbol{a})}{\\partial \\boldsymbol{a}} = \\boldsymbol{a}^T(\\boldsymbol{A}+\\boldsymbol{A}^T),\n",
    "$$"
   ]
  },
  {
   "cell_type": "markdown",
   "id": "8825fe2a",
   "metadata": {},
   "source": [
    "##### Answers:\n",
    "**a)** **i)** The product $\\mathbf{a}^T \\mathbf{x}$ is the same as the inner product of $\\mathbf{a}$ and $\\mathbf{x}$ and gives a scalar.\n",
    "\n",
    "**ii)** The variable $\\mathbf{x}$ is a column vector of some length $n \\in \\mathbb{N}$\n",
    "\n",
    "**iii)** The resulting expression is a *row* vector of length $n$, equal to the length of the *column* vector $\\mathbf{x}$.\n",
    "\n",
    "**b)** We have that $\\mathbf{a}^T\\mathbf{x} = a_1 x_1 + a_2 x_2 + \\dots + a_n x_n$, were $a_i$ and $x_i$ is the $i$-th entry of $\\mathbf{a}$ and $\\mathbf{x}$ respectively. Taking the partial derivative with respect to $x_i$ gives\n",
    "$$ \\frac{\\partial (\\mathbf{a}^T\\mathbf{x})}{\\partial x_i} = a_i. $$\n",
    "Consequently, taking the partial derivative w.r.t $\\mathbf{x}$ we get a row vector where the $i$-th entry is $a_i$. This is exactly $\\mathbf{a}^T$.\n",
    "\n",
    "**c)** Denote the $i$-th entry of $\\mathbf{a}$ by $a_i$ and the entry in the $i$-th row and $j$-th column of $\\mathbf{A}$ by $x_{ij}$. Then the product $\\mathbf{A}\\mathbf{a}$ gives a column vector where the $k$-th entry is given by\n",
    "$ \\sum_{i=0}^{n} a_i x_{ki}$. Thus $\\mathbf{a}^T\\mathbf{A}\\mathbf{a}$ is a scalar given by\n",
    "$$ a_1 \\left(\\sum_{i=0}^{n} a_i x_{1i}\\right) + a_2 \\left(\\sum_{i=0}^{n} a_i x_{2i} \\right)  + \\dots + a_n \\left( \\sum_{i=0}^{n} a_i x_{ni} \\right).$$\n",
    "Taking the partial derivative with respect to $a_k$ yields\n",
    "$$ \\begin{align} \n",
    " \\frac{\\partial (\\mathbf{a}^T\\mathbf{A}\\mathbf{a})}{\\partial a_k} &= \\sum_{i=1}^{n} a_i x_{ki} + \\sum_{i=1}^{n} a_i x_{ik} = \\mathbf{a}^T(\\mathbf{A}+\\mathbf{A}^T)\n",
    "\\end{align} $$"
   ]
  },
  {
   "cell_type": "markdown",
   "id": "498d13ec",
   "metadata": {},
   "source": [
    "## Exercise 2 - Deriving the expression for OLS"
   ]
  },
  {
   "cell_type": "markdown",
   "id": "f3f771de",
   "metadata": {},
   "source": [
    "The ordinary least squares method finds the parameters $\\boldsymbol{\\theta}$ which minimizes the squared error between our model $\\boldsymbol{X\\theta}$ and the true values $\\boldsymbol{y}$.\n",
    "\n",
    "To find the parameters $\\boldsymbol{\\theta}$ which minimizes this error, we take the derivative of the squared error expression with respect to $\\boldsymbol{\\theta}$, and set it equal to 0."
   ]
  },
  {
   "cell_type": "markdown",
   "id": "49690237",
   "metadata": {},
   "source": [
    "**a)** Very briefly explain why the approach above finds the parameters $\\boldsymbol{\\theta}$ which minimizes this error."
   ]
  },
  {
   "cell_type": "markdown",
   "id": "b7cccc9d",
   "metadata": {},
   "source": [
    "We typically write the squared error as\n",
    "\n",
    "$$\n",
    "\\vert\\vert\\boldsymbol{y} - \\boldsymbol{X\\theta}\\vert\\vert^2\n",
    "$$\n",
    "\n",
    "which we can rewrite in matrix-vector form as\n",
    "\n",
    "$$\n",
    "\\left(\\boldsymbol{y}-\\boldsymbol{X}\\boldsymbol{\\theta}\\right)^T\\left(\\boldsymbol{y}-\\boldsymbol{X}\\boldsymbol{\\theta}\\right)\n",
    "$$"
   ]
  },
  {
   "cell_type": "markdown",
   "id": "8fbecf74",
   "metadata": {},
   "source": [
    "**b)** If $\\boldsymbol{X}$ is invertible, what is the expression for the optimal parameters $\\boldsymbol{\\theta}$? (**Hint:** Don't compute any derivatives, but solve $\\boldsymbol{X\\theta}=\\boldsymbol{y}$ for $\\boldsymbol{\\theta}$)"
   ]
  },
  {
   "cell_type": "markdown",
   "id": "f37af8f0",
   "metadata": {},
   "source": [
    "**c)** Show that\n",
    "\n",
    "$$\n",
    "\\frac{\\partial \\left(\\boldsymbol{x}-\\boldsymbol{A}\\boldsymbol{s}\\right)^T\\left(\\boldsymbol{x}-\\boldsymbol{A}\\boldsymbol{s}\\right)}{\\partial \\boldsymbol{s}} = -2\\left(\\boldsymbol{x}-\\boldsymbol{A}\\boldsymbol{s}\\right)^T\\boldsymbol{A},\n",
    "$$"
   ]
  },
  {
   "cell_type": "markdown",
   "id": "869fca4d",
   "metadata": {},
   "source": [
    "**d)** Using the expression from **c)**, but substituting back in $\\boldsymbol{\\theta}$, $\\boldsymbol{y}$ and $\\boldsymbol{X}$, find the expression for the optimal parameters $\\boldsymbol{\\theta}$ in the case that $\\boldsymbol{X}$ is not invertible, but $\\boldsymbol{X^T X}$ is, which is most often the case.\n",
    "\n",
    "$$\n",
    "\\boldsymbol{\\hat{\\theta}_{OLS}} = ...\n",
    "$$"
   ]
  },
  {
   "cell_type": "markdown",
   "id": "bc56d544",
   "metadata": {},
   "source": [
    "#### Answers:\n",
    "**a)** This method finds the extrema of the squared error w.r.t. $\\theta$ and since the expression is squared the extrema must be a minimum. Thus the resulting equation can be solved for $\\theta$ to find the value of $\\theta$ at that minimizes the squared error.\n",
    "\n",
    "**b)** If $\\mathbf{X}$ is invertible then we can multiply both sides with the inverse giving $\\mathbf{X}^{-1}y-\\theta = 0$, thus $\\theta = \\mathbf{X}^{-1}y$\n",
    "\n",
    "**c)** By using the chain rule we can compute the derivative by first finding $\\frac{\\partial \\mathbf{u}^T \\mathbf{u}}{\\partial \\mathbf{u}}$, where $\\mathbf{u} = \\mathbf{x}-\\mathbf{As}$ is a function of $\\mathbf{s}$, and then finding $\\frac{\\partial \\mathbf{u}}{\\partial s}$. By 1c) We have that $\\frac{\\partial \\mathbf{u}^T \\mathbf{u}}{\\partial \\mathbf{u}} = \\mathbf{u}^T(\\mathbf{I} + \\mathbf{I}^T)=2\\mathbf{u}^T$. In the case of $\\frac{\\partial \\mathbf{u}}{\\partial \\mathbf{s}}$ we have that the $\\mathbf{x}$ term vanishes and we are left with a column vector whose $k$-th entry is given by $-\\sum_{i=1}^{n} a_{ki}s_i$. When taking the partial derivative of this w.r.t. $s_i$ we are left with only $-a_{ki}$. Thus the $k$-th row and $i$-th column has entry $-a_{ki}$ which gives exactly the matrix $-\\mathbf{A}$. Thus, $\\frac{\\partial \\mathbf{u}}{\\partial\\mathbf{s}} = -\\mathbf{A}$. Consequently, $\\frac{\\partial (\\mathbf{x}-\\mathbf{As})^T(\\mathbf{x}-\\mathbf{As})}{\\partial s} = -2(\\mathbf{x}-\\mathbf{As})^T$.\n",
    "\n",
    "**d)** We solve for \\theta: \n",
    "$$\\begin{align*}\n",
    "2(\\mathbf{y}-\\mathbf{X\\theta})^T\\mathbf{X} =& \\mathbf{y}^T\\mathbf{X}-\\mathbf{\\theta}^T\\mathbf{X}^T\\mathbf{X} = 0\\\\\n",
    "\\iff  \\theta^T =& \\mathbf{y}^T\\mathbf{X}(\\mathbf{X}^T\\mathbf{X})^{-1}\\\\\n",
    "\\iff \\hspace{2mm} \\theta =& ((\\mathbf{X}^T\\mathbf{X})^{-1})^T\\mathbf{X}^T\\mathbf{y}\n",
    "\\end{align*}$$"
   ]
  },
  {
   "cell_type": "markdown",
   "id": "57ca3d74",
   "metadata": {},
   "source": [
    "## Exercise 3 - Creating feature matrix and implementing OLS using the analytical expression"
   ]
  },
  {
   "cell_type": "markdown",
   "id": "5dc179f7",
   "metadata": {},
   "source": [
    "With the expression for $\\boldsymbol{\\hat{\\theta}_{OLS}}$, you now have what you need to implement OLS regression with your input data and target data $\\boldsymbol{y}$. But before you can do that, you need to set up you input data as a feature matrix $\\boldsymbol{X}$.\n",
    "\n",
    "In a feature matrix, each row is a datapoint and each column is a feature of that data. If you want to predict someones spending based on their income and number of children, for instance, you would create a row for each person in your dataset, with the montly income and the number of children as columns.\n",
    "\n",
    "We typically also include an intercept in our models. The intercept is a value that is added to our prediction regardless of the value of the other features. The intercept tries to account for constant effects in our data that are not dependant on anything else. In our current example, the intercept could account for living expenses which are typical regardless of income or childcare expenses.\n",
    "\n",
    "We calculate the optimal intercept by including a feature with the constant value of 1 in our model, which is then multplied by some parameter $\\theta_0$ from the OLS method into the optimal intercept value (which will be $\\theta_0$). In practice, we include the intercept in our model by adding a column of ones to the start of our feature matrix."
   ]
  },
  {
   "cell_type": "code",
   "execution_count": 1,
   "id": "e5ff2a69",
   "metadata": {},
   "outputs": [],
   "source": [
    "import numpy as np"
   ]
  },
  {
   "cell_type": "code",
   "execution_count": 2,
   "id": "a3cf2792",
   "metadata": {},
   "outputs": [],
   "source": [
    "n = 20\n",
    "income = np.array([116., 161., 167., 118., 172., 163., 179., 173., 162., 116., 101., 176., 178., 172., 143., 135., 160., 101., 149., 125.])\n",
    "children = np.array([5, 3, 0, 4, 5, 3, 0, 4, 4, 3, 3, 5, 1, 0, 2, 3, 2, 1, 5, 4])\n",
    "spending = np.array([152., 141., 102., 136., 161., 129.,  99., 159., 160., 107.,  98., 164., 121.,  93., 112., 127., 117.,  69., 156., 131.])\n"
   ]
  },
  {
   "cell_type": "markdown",
   "id": "5da61481",
   "metadata": {},
   "source": [
    "**a)** Create a feature matrix $\\boldsymbol{X}$ for the features income and children, including an intercept column of ones at the start."
   ]
  },
  {
   "cell_type": "code",
   "execution_count": 3,
   "id": "5ad87a65",
   "metadata": {},
   "outputs": [],
   "source": [
    "X = np.zeros((n, 3))\n",
    "X[:, 0] = np.ones(n)\n",
    "X[:, 1] = income\n",
    "X[:, 2] = children"
   ]
  },
  {
   "cell_type": "markdown",
   "id": "e0ddfac2",
   "metadata": {},
   "source": [
    "**b)** Use the expression from **3d)** to find the optimal parameters $\\boldsymbol{\\hat{\\beta}_{OLS}}$ for predicting spending based on these features. Create a function for this operation, as you are going to need to use it a lot."
   ]
  },
  {
   "cell_type": "code",
   "execution_count": 9,
   "id": "8f3f68aa",
   "metadata": {},
   "outputs": [
    {
     "name": "stdout",
     "output_type": "stream",
     "text": [
      "[ 9.12808583  0.5119025  14.60743095]\n"
     ]
    }
   ],
   "source": [
    "def OLS_parameters(X, y):\n",
    "    return (y.T @ X @ np.linalg.pinv(X.T @ X)).T\n",
    "\n",
    "y = spending\n",
    "beta = OLS_parameters(X, y)\n",
    "print(beta)"
   ]
  },
  {
   "cell_type": "markdown",
   "id": "0cb6da80",
   "metadata": {},
   "source": [
    "## Exercise 4 - Fitting a polynomial"
   ]
  },
  {
   "cell_type": "markdown",
   "id": "71015064",
   "metadata": {},
   "source": [
    "In this course, we typically do linear regression using polynomials, though in real world applications it is also very common to make linear models based on measured features like you did in the previous exercise.\n",
    "\n",
    "When fitting a polynomial with linear regression, we make each polynomial degree($x, x^2, x^3, ..., x^p$) its own feature."
   ]
  },
  {
   "cell_type": "code",
   "execution_count": 154,
   "id": "d7476c84",
   "metadata": {},
   "outputs": [],
   "source": [
    "n = 100\n",
    "x = np.linspace(-3, 3, n)\n",
    "y = np.exp(-x**2) + 1.5 * np.exp(-(x-2)**2) + np.random.normal(0, 0.2, n)"
   ]
  },
  {
   "cell_type": "markdown",
   "id": "8321451b",
   "metadata": {},
   "source": [
    "**a)** Create a feature matrix $\\boldsymbol{X}$ for the features $x, x^2, x^3, x^4, x^5$, including an intercept column of ones at the start. Make this into a function, as you will do this a lot over the next weeks."
   ]
  },
  {
   "cell_type": "code",
   "execution_count": 137,
   "id": "91496e40",
   "metadata": {},
   "outputs": [],
   "source": [
    "def polynomial_features(x, p):\n",
    "    n = len(x)\n",
    "    X = np.ones((n, p + 1))\n",
    "    for i in range(p):\n",
    "        X[:,i+1] = x**(i+1)\n",
    "    return X\n",
    "        \n",
    "\n",
    "X = polynomial_features(x, 5)\n"
   ]
  },
  {
   "cell_type": "markdown",
   "id": "b84b1e31",
   "metadata": {},
   "source": [
    "**b)** Use the expression from **3d)** to find the optimal parameters $\\boldsymbol{\\hat{\\beta}_{OLS}}$ for predicting $\\boldsymbol{y}$ based on these features. If you have done everything right so far, this code will not need changing."
   ]
  },
  {
   "cell_type": "code",
   "execution_count": 138,
   "id": "034f502c",
   "metadata": {},
   "outputs": [
    {
     "name": "stdout",
     "output_type": "stream",
     "text": [
      "[ 8.44440453e-01  2.45567007e-01 -4.77440305e-02  7.01782875e-02\n",
      " -3.68791279e-04 -1.04646490e-02]\n"
     ]
    }
   ],
   "source": [
    "beta = OLS_parameters(X, y)\n",
    "print(beta)"
   ]
  },
  {
   "cell_type": "markdown",
   "id": "d703f788",
   "metadata": {},
   "source": [
    "**c)** Like in exercise 4 last week, split your feature matrix and target data into a training split and test split."
   ]
  },
  {
   "cell_type": "code",
   "execution_count": 139,
   "id": "29171358",
   "metadata": {},
   "outputs": [],
   "source": [
    "from sklearn.model_selection import train_test_split\n",
    "\n",
    "X_train, X_test, y_train, y_test = train_test_split(X, y, test_size=0.2)"
   ]
  },
  {
   "cell_type": "markdown",
   "id": "a0e3509f",
   "metadata": {},
   "source": [
    "**d)** Train your model on the training data(find the parameters which best fit) and compute the MSE on both the training and test data."
   ]
  },
  {
   "cell_type": "code",
   "execution_count": 144,
   "id": "1e346f4c",
   "metadata": {},
   "outputs": [
    {
     "name": "stdout",
     "output_type": "stream",
     "text": [
      "params: [ 8.36490123e-01  2.71130964e-01 -4.74048702e-02  5.78452679e-02\n",
      " -6.25055513e-04 -9.48855003e-03]\n",
      "train mse: 0.023342232542669462\n",
      "test mse: 0.025682980282606023\n"
     ]
    }
   ],
   "source": [
    "from functools import partial\n",
    "from sklearn.metrics import mean_squared_error\n",
    "\n",
    "model_params = OLS_parameters(X_train,y_train)\n",
    "print(\"params:\", model_params)\n",
    "\n",
    "def model_func(params, x):\n",
    "    prediction = 0\n",
    "    for i, theta in enumerate(params):\n",
    "        if i == 0:\n",
    "            prediction += theta\n",
    "        else:\n",
    "            prediction += theta*(x**i)\n",
    "    return prediction\n",
    "\n",
    "predict_train = model_func(model_params, X_train[:,1])\n",
    "train_mse = mean_squared_error(y_train, predict_train)\n",
    "\n",
    "predict_test = model_func(model_params, X_test[:,1])\n",
    "test_mse = mean_squared_error(y_test, predict_test)\n",
    "\n",
    "print(\"train mse:\", train_mse)\n",
    "print(\"test mse:\", test_mse)\n",
    "\n"
   ]
  },
  {
   "cell_type": "markdown",
   "id": "7e431889",
   "metadata": {},
   "source": [
    "**e)** Do the same for each polynomial degree from 2 to 10, and plot the MSE on both the training and test data as a function of polynomial degree. The aim is to reproduce Figure 2.11 of [Hastie et al](https://github.com/CompPhysics/MLErasmus/blob/master/doc/Textbooks/elementsstat.pdf). Feel free to read the discussions leading to figure 2.11 of Hastie et al. "
   ]
  },
  {
   "cell_type": "code",
   "execution_count": 145,
   "id": "2b4b8283",
   "metadata": {},
   "outputs": [
    {
     "name": "stdout",
     "output_type": "stream",
     "text": [
      "[0.08610207 0.05214535 0.05181792 0.0491371  0.04215246 0.04082496\n",
      " 0.03040594 0.02898507 0.02837905]\n",
      "[0.09283332 0.06348555 0.0634107  0.06153667 0.06058239 0.05473119\n",
      " 0.05509697 0.07245298 0.06708903]\n"
     ]
    }
   ],
   "source": [
    "max_degree = 10\n",
    "min_degree = 2\n",
    "\n",
    "num_points = max_degree - min_degree + 1\n",
    "\n",
    "# initialize arrays for MSE arrays\n",
    "MSE_train_degs = np.zeros(num_points)\n",
    "MSE_test_degs = np.zeros(num_points)\n",
    "# initialize array to plot models\n",
    "model_output_plots = np.zeros((num_points, n))\n",
    "\n",
    "xs_train, xs_test, ys_train, ys_test = train_test_split(x, y, test_size=0.2)\n",
    "\n",
    "for d in range(min_degree, max_degree+1):\n",
    "    # calculate model parameters\n",
    "    xs_train_features = polynomial_features(xs_train, d)\n",
    "    beta_ = OLS_parameters(xs_train_features, ys_train)\n",
    "\n",
    "    # get MSE for train and test\n",
    "    predict_train_ = model_func(beta_, xs_train)\n",
    "    train_mse_ = mean_squared_error(ys_train, predict_train_)\n",
    "    MSE_train_degs[d-min_degree] = train_mse_\n",
    "\n",
    "    predict_test_ = model_func(beta_, xs_test)\n",
    "    test_mse_ = mean_squared_error(ys_test, predict_test_)\n",
    "    MSE_test_degs[d-min_degree] = test_mse_\n",
    "\n",
    "    # get model output for all x to plot.\n",
    "    model_output_plots[d-min_degree] = model_func(beta_, x)\n",
    "\n",
    "\n",
    "degrees = list(range(min_degree, max_degree+1))\n",
    "print(MSE_train_degs)\n",
    "print(MSE_test_degs)"
   ]
  },
  {
   "cell_type": "code",
   "execution_count": null,
   "id": "7ca40784",
   "metadata": {},
   "outputs": [],
   "source": [
    "import matplotlib.pyplot as plt"
   ]
  },
  {
   "cell_type": "code",
   "execution_count": 151,
   "id": "6f8313fc",
   "metadata": {},
   "outputs": [
    {
     "data": {
      "text/plain": [
       "<matplotlib.legend.Legend at 0x7a632a8eb590>"
      ]
     },
     "execution_count": 151,
     "metadata": {},
     "output_type": "execute_result"
    },
    {
     "data": {
      "image/png": "[encoded data removed]",
      "text/plain": [
       "<Figure size 1000x500 with 2 Axes>"
      ]
     },
     "metadata": {},
     "output_type": "display_data"
    }
   ],
   "source": [
    "fig, (ax1, ax2) =  plt.subplots(1,2)\n",
    "fig.set_figheight(5)\n",
    "fig.set_figwidth(10)\n",
    "\n",
    "#ax1.set_aspect(\"equal\")\n",
    "#ax2.set_aspect(\"equal\")\n",
    "\n",
    "ax1.plot(degrees, MSE_train_degs, label=\"Training\")\n",
    "ax1.plot(degrees, MSE_test_degs, label=\"Test\")\n",
    "ax1.set_xlabel(\"Degrees\")\n",
    "ax1.set_ylabel(\"MSE\")\n",
    "ax1.set_title(f\"MSE for training and test data\")\n",
    "ax1.legend()\n",
    "\n",
    "for i, poly in enumerate(model_output_plots):\n",
    "    # plot each polynomial model in different shade of grey.\n",
    "    # from lighter to darker grey with increasing degree.\n",
    "    ax2.plot(x, poly, color =((11-i)/12, (11-i)/12, (11-i)/12))\n",
    "\n",
    "ax2.plot(x,y, label=\"True data\", color=\"red\")\n",
    "\n",
    "ax2.set_xlabel(\"x\")\n",
    "ax2.set_ylabel(\"y\")\n",
    "ax2.set_title(\"Raw data and different polynomial models\")\n",
    "ax2.legend()"
   ]
  },
  {
   "cell_type": "markdown",
   "id": "5e5b5954",
   "metadata": {},
   "source": [
    "**f)** Interpret the graph. Why do the lines move as they do? What does it tell us about model performance and generalizability?"
   ]
  },
  {
   "cell_type": "markdown",
   "id": "dabfd740",
   "metadata": {},
   "source": [
    "The graph shows that increasing the degree of the polynomial decreases the error of the predictions on both the training and test data up to a point. After this point increasing the degree of the polynomial decreases the error of the predictions on the training data further but increases the error of the prediction on the test data significantly. This means the model performs better for the training data but worse for the unseen test data.\n",
    "\n",
    "This implies the model actually gets worse at predicting future observations when the degree of the polynomial, and thereby the complexity of the model, increases past a certain point. \n",
    "\n",
    "This happens because the model is overfitting and, losely speaking, is taking into account the noise of the particular observations in the training data and not only considering the overall trends."
   ]
  },
  {
   "cell_type": "markdown",
   "id": "5994f0c5",
   "metadata": {},
   "source": [
    "## Exercise 5 - Comparing your code with sklearn"
   ]
  },
  {
   "cell_type": "markdown",
   "id": "8f595b7a",
   "metadata": {},
   "source": [
    "When implementing different algorithms for the first time, it can be helpful to double check your results with established implementations before you go on to add more complexity."
   ]
  },
  {
   "cell_type": "markdown",
   "id": "8ab310c1",
   "metadata": {},
   "source": [
    "**a)** Make sure your `polynomial_features` function creates the same feature matrix as sklearns PolynomialFeatures.\n",
    "\n",
    "(https://scikit-learn.org/stable/modules/generated/sklearn.preprocessing.PolynomialFeatures.html)"
   ]
  },
  {
   "cell_type": "code",
   "execution_count": 155,
   "id": "85b964d1",
   "metadata": {},
   "outputs": [],
   "source": [
    "from sklearn.preprocessing import PolynomialFeatures\n",
    "from sklearn.linear_model import LinearRegression"
   ]
  },
  {
   "cell_type": "code",
   "execution_count": 198,
   "id": "6be386fc",
   "metadata": {},
   "outputs": [
    {
     "data": {
      "text/plain": [
       "array([[ True],\n",
       "       [ True],\n",
       "       [ True],\n",
       "       [ True],\n",
       "       [ True],\n",
       "       [ True],\n",
       "       [ True],\n",
       "       [ True],\n",
       "       [ True]])"
      ]
     },
     "execution_count": 198,
     "metadata": {},
     "output_type": "execute_result"
    }
   ],
   "source": [
    "x = np.linspace(0,5,11)\n",
    "y = np.log(x+1)\n",
    "\n",
    "def validate_poly(d_min, d_max, x, y, print_on=False):\n",
    "    n = d_max-d_min+1\n",
    "    test_bools = np.zeros((n,1), dtype=\"bool\")\n",
    "    \n",
    "    for deg in range(d_min,d_max+1):\n",
    "        Xs_sklearn = PolynomialFeatures(deg).fit_transform(x.reshape(11,1),y)\n",
    "        Xs_own = polynomial_features(x, deg)\n",
    "        # Check all entries are equal.\n",
    "        is_equal = np.all(Xs_sklearn == Xs_own)\n",
    "        test_bools[deg-d_min] = is_equal\n",
    "        if not is_equal and print_on:\n",
    "            print(f\"Failed at degree {deg}!\")\n",
    "    \n",
    "    return test_bools\n",
    "        \n",
    "    \n",
    "validate_poly(2,10,x,y)"
   ]
  },
  {
   "cell_type": "markdown",
   "id": "73c32c52",
   "metadata": {},
   "source": [
    "**b)** Make sure your `OLS_parameters` function computes the same parameters as sklearns LinearRegression with fit_intercept set to False, since the intercept is included in the feature matrix. Use `your_model_object.coef_` to extract the computed parameters.\n",
    "\n",
    "(https://scikit-learn.org/stable/modules/generated/sklearn.linear_model.LinearRegression.html)"
   ]
  },
  {
   "cell_type": "code",
   "execution_count": 201,
   "id": "35b04126",
   "metadata": {},
   "outputs": [
    {
     "data": {
      "text/plain": [
       "Text(0, 0.5, 'MSE (log)')"
      ]
     },
     "execution_count": 201,
     "metadata": {},
     "output_type": "execute_result"
    },
    {
     "data": {
      "image/png": "[encoded data removed]",
      "text/plain": [
       "<Figure size 640x480 with 1 Axes>"
      ]
     },
     "metadata": {},
     "output_type": "display_data"
    }
   ],
   "source": [
    "def validate_params(d_min, d_max, x, y, print_on=False):\n",
    "    n = d_max-d_min+1\n",
    "    test_result = np.zeros((n,1))\n",
    "    \n",
    "    for deg in range(d_min,d_max+1):\n",
    "        Xs_sklearn = PolynomialFeatures(deg).fit_transform(x.reshape(11,1),y)\n",
    "        model_sklearn = LinearRegression(fit_intercept = False).fit(Xs_sklearn, y)\n",
    "        coeffs_sklearn = model_sklearn.coef_\n",
    "        \n",
    "        Xs_own = polynomial_features(x, deg)\n",
    "        coeffs_own = OLS_parameters(Xs_own, y)\n",
    "\n",
    "        mse = mean_squared_error(coeffs_own, coeffs_sklearn)\n",
    "        test_result[deg-d_min] = mse\n",
    "        \n",
    "        if print_on:\n",
    "            print(f\"degree {d}\", mse)\n",
    "    \n",
    "    return test_result\n",
    "\n",
    "min_d = 2\n",
    "max_d = 20\n",
    "errors = validate_params(min_d,max_d,x,y)\n",
    "degrees = list(range(min_d,max_d+1))\n",
    "\n",
    "plt.plot(degrees, errors)\n",
    "plt.yscale(\"log\")\n",
    "plt.xlabel(\"degree\")\n",
    "plt.ylabel(\"MSE (log)\")"
   ]
  },
  {
   "cell_type": "markdown",
   "id": "c9fb0761",
   "metadata": {},
   "source": [
    "The difference is very small for small degrees but increases to quite high levels with higher degrees. But increases with degree. I would guess this is due to some numerical error and a difference in implementation. Unsure about how to fix this."
   ]
  }
 ],
 "metadata": {
  "kernelspec": {
   "display_name": "Python 3 (ipykernel)",
   "language": "python",
   "name": "python3"
  },
  "language_info": {
   "codemirror_mode": {
    "name": "ipython",
    "version": 3
   },
   "file_extension": ".py",
   "mimetype": "text/x-python",
   "name": "python",
   "nbconvert_exporter": "python",
   "pygments_lexer": "ipython3",
   "version": "3.9.15"
  }
 },
 "nbformat": 4,
 "nbformat_minor": 5
}
